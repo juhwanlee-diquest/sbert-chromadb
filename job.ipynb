{
 "cells": [
  {
   "cell_type": "code",
   "execution_count": null,
   "metadata": {},
   "outputs": [],
   "source": [
    "__import__('pysqlite3')\n",
    "import sys\n",
    "sys.modules['sqlite3'] = sys.modules.pop('pysqlite3')"
   ]
  },
  {
   "cell_type": "code",
   "execution_count": null,
   "metadata": {},
   "outputs": [],
   "source": [
    "from sentence_transformers import SentenceTransformer\n",
    "import chromadb\n",
    "import pathlib\n",
    "import json\n",
    "import pandas as pd\n",
    "import uuid"
   ]
  },
  {
   "cell_type": "code",
   "execution_count": null,
   "metadata": {},
   "outputs": [],
   "source": [
    "client = chromadb.PersistentClient()\n",
    "\n",
    "# Collection 이름\n",
    "collection_name = \"dqchat\"\n",
    "\n",
    "# 기존 컬렉션이 있는지 확인\n",
    "existing_collections = client.list_collections()\n",
    "\n",
    "if collection_name in [collection.name for collection in existing_collections]:\n",
    "    # 이미 존재하는 컬렉션 가져오기\n",
    "    dqchat = client.get_collection(collection_name)\n",
    "else:\n",
    "    # 컬렉션이 없으면 새로 생성\n",
    "    dqchat = client.create_collection(name=collection_name)\n"
   ]
  },
  {
   "cell_type": "code",
   "execution_count": null,
   "metadata": {},
   "outputs": [],
   "source": [
    "model = SentenceTransformer('jhgan/ko-sroberta-multitask')"
   ]
  },
  {
   "cell_type": "code",
   "execution_count": null,
   "metadata": {},
   "outputs": [],
   "source": [
    "# 집어넣을 데이터 만들기\n",
    "folder_path = '/ml_data/DQChat/'\n",
    "data_files = ['employment', 'expenditure', 'privacy', 'retirement', 'traveling', 'welfare']\n",
    "\n",
    "\n",
    "all_data = []\n",
    "for file_name in data_files:\n",
    "    \n",
    "    data_path = pathlib.Path(folder_path, file_name).with_suffix('.json')\n",
    "    \n",
    "    #\n",
    "    with data_path.open('r', encoding='utf-8') as file:\n",
    "        data = json.load(file)\n",
    "        \n",
    "        # 각 파일의 데이터를 리스트에 추가\n",
    "        for entry in data:\n",
    "            entry['카테고리'] = file_name\n",
    "            all_data.append(entry)\n",
    "\n",
    "# 모든 데이터를 하나의 DataFrame으로 변환\n",
    "df = pd.DataFrame(all_data)"
   ]
  },
  {
   "cell_type": "code",
   "execution_count": null,
   "metadata": {},
   "outputs": [],
   "source": [
    "# 데이터프레임에서 각 행을 가져와 임베딩 및 컬렉션에 추가\n",
    "for index, row in df.iterrows():\n",
    "    questions = row['질문']  # '질문' 컬럼의 내용 가져오기 (리스트 형태)\n",
    "    answer = row['답변']  # '답변' 컬럼의 내용 가져오기\n",
    "    clause = row['조항']  # '조항' 컬럼의 내용 가져오기\n",
    "    category = row['카테고리']  # 'category' 컬럼의 내용 가져오기\n",
    "    \n",
    "    # 질문이 리스트 형태임을 가정하고 각각의 질문을 처리\n",
    "    for question in questions:\n",
    "        # 질문을 임베딩\n",
    "        embedding = model.encode(question)\n",
    "        \n",
    "        # 메타정보 설정\n",
    "        metadata = {\n",
    "            'query': question,\n",
    "            'answer': answer,\n",
    "            'clause': clause,\n",
    "            'category': category\n",
    "        }\n",
    "        doc_id = str(uuid.uuid4())\n",
    "        # 컬렉션에 추가\n",
    "        dqchat.add(\n",
    "            ids=[doc_id],\n",
    "            documents=[question],\n",
    "            embeddings=[embedding.tolist()],\n",
    "            metadatas=[metadata]\n",
    "        )"
   ]
  },
  {
   "cell_type": "code",
   "execution_count": null,
   "metadata": {},
   "outputs": [],
   "source": [
    "# 예시 질문\n",
    "query = \"사장은 누구야?\"\n",
    "\n",
    "# 임베딩을 사용하여 컬렉션에서 유사한 문서 검색\n",
    "results = dqchat.query(query_embeddings=[model.encode(query).tolist()], n_results=20)"
   ]
  },
  {
   "cell_type": "code",
   "execution_count": null,
   "metadata": {},
   "outputs": [],
   "source": []
  }
 ],
 "metadata": {
  "kernelspec": {
   "display_name": ".venv",
   "language": "python",
   "name": "python3"
  },
  "language_info": {
   "codemirror_mode": {
    "name": "ipython",
    "version": 3
   },
   "file_extension": ".py",
   "mimetype": "text/x-python",
   "name": "python",
   "nbconvert_exporter": "python",
   "pygments_lexer": "ipython3",
   "version": "3.10.13"
  }
 },
 "nbformat": 4,
 "nbformat_minor": 2
}
